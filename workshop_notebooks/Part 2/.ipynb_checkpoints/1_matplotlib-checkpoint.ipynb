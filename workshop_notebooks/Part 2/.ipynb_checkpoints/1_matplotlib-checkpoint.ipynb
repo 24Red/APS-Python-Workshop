{
 "cells": [
  {
   "cell_type": "markdown",
   "metadata": {},
   "source": [
    "# Challenge 1: Matplotlib and NumPy"
   ]
  },
  {
   "cell_type": "markdown",
   "metadata": {},
   "source": [
    "### Import the packages you need at the top:"
   ]
  },
  {
   "cell_type": "code",
   "execution_count": null,
   "metadata": {},
   "outputs": [],
   "source": [
    "import numpy as np\n",
    "import matplotlib.pyplot as plt\n",
    "%matplotlib inline"
   ]
  },
  {
   "cell_type": "markdown",
   "metadata": {},
   "source": [
    "### Task 1\n",
    "Fix this block of code so that it evaluates the function $y = 3x^{2} +2x + 1$ on the given x values"
   ]
  },
  {
   "cell_type": "code",
   "execution_count": null,
   "metadata": {},
   "outputs": [],
   "source": [
    "my_x = np.linspace(-10, 10, 50)\n",
    "\n",
    "def quadratic(x):\n",
    "    y = 3*(x**2) + 2*x + 1\n",
    "    return y\n",
    "\n",
    "my_y = quadratic(my_x)"
   ]
  },
  {
   "cell_type": "markdown",
   "metadata": {},
   "source": [
    "### Task 2\n",
    "Use Matplotlib to plot the x and y values with green triangles. Be sure to add a label for the legend!"
   ]
  },
  {
   "cell_type": "code",
   "execution_count": null,
   "metadata": {},
   "outputs": [],
   "source": [
    "plt.figure()\n",
    "\n",
    "plt.plot(my_x, my_y, color='green', marker='v', linestyle='-', label='My Data')\n",
    "\n",
    "# This line created the same plot, except the points aren't connected\n",
    "# plt.scatter(my_x, my_y, color='green', marker='v', linestyle='-', label='My Data')\n",
    "\n",
    "plt.xlabel('x')\n",
    "plt.ylabel(r'$y = x^{2}$')\n",
    "plt.title('This is a plot!')\n",
    "plt.legend()\n",
    "plt.show()\n",
    "\n",
    "# This line saves your plot as a PNG in the \"files\" folder\n",
    "plt.savefig('../../files/Sample_Plot.png')"
   ]
  }
 ],
 "metadata": {
  "kernelspec": {
   "display_name": "Python 3",
   "language": "python",
   "name": "python3"
  },
  "language_info": {
   "codemirror_mode": {
    "name": "ipython",
    "version": 3
   },
   "file_extension": ".py",
   "mimetype": "text/x-python",
   "name": "python",
   "nbconvert_exporter": "python",
   "pygments_lexer": "ipython3",
   "version": "3.7.6"
  }
 },
 "nbformat": 4,
 "nbformat_minor": 4
}
