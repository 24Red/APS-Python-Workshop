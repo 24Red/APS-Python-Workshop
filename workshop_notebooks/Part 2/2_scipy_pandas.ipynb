{
 "cells": [
  {
   "cell_type": "markdown",
   "metadata": {},
   "source": [
    "# Challenge 2: Pandas and SciPy"
   ]
  },
  {
   "cell_type": "markdown",
   "metadata": {},
   "source": [
    "### Import the packages you need at the top:"
   ]
  },
  {
   "cell_type": "code",
   "execution_count": null,
   "metadata": {},
   "outputs": [],
   "source": [
    "import numpy as np\n",
    "import pandas as pd\n",
    "import matplotlib.pyplot as plt\n",
    "from scipy.optimize import curve_fit\n",
    "%matplotlib inline"
   ]
  },
  {
   "cell_type": "markdown",
   "metadata": {},
   "source": [
    "### Define a function we'll need later:"
   ]
  },
  {
   "cell_type": "code",
   "execution_count": null,
   "metadata": {},
   "outputs": [],
   "source": [
    "def mySin(x,a,b):\n",
    "    y = a*np.sin(b*x)\n",
    "    return y"
   ]
  },
  {
   "cell_type": "markdown",
   "metadata": {},
   "source": [
    "### Task 1\n",
    "Read in the the data from the Excel file ('pandas.xlsx') OR the CSV file ('pandas.csv'). \n",
    "\n",
    "Both have two columns of data: 'x' and 'y'"
   ]
  },
  {
   "cell_type": "code",
   "execution_count": null,
   "metadata": {},
   "outputs": [],
   "source": [
    "path_to_xlsx = '../../files/pandas.xlsx'\n",
    "#path_to_csv = '../../files/pandas.csv'\n",
    "\n",
    "data = # YOUR CODE HERE: Read in the data\n",
    "x =    # YOUR CODE HERE: Get the x data\n",
    "y =    # YOUR CODE HERE: Get the y data"
   ]
  },
  {
   "cell_type": "markdown",
   "metadata": {},
   "source": [
    "### Task 2\n",
    "Plot the data you loaded from the Excel file or the CSV file to see what it looks like.\n",
    "\n",
    "#### Task 2: Bonus\n",
    "Plot the best-fit sine function, which we find by fitting mySin to the data points."
   ]
  },
  {
   "cell_type": "code",
   "execution_count": null,
   "metadata": {},
   "outputs": [],
   "source": [
    "# This creates two places to plot (ax[0] and ax[1])\n",
    "# on a single figure called \"fig\"\n",
    "fig, ax = plt.subplots(nrows=2, ncols=1)\n",
    "plt.subplots_adjust(hspace=0.5)\n",
    "\n",
    "# Set titles for the two plots\n",
    "ax[0].set_title('Original Data')\n",
    "ax[1].set_title('Fit Sine Curve')\n",
    "\n",
    "# YOUR CODE HERE:\n",
    "# Plot the data as black points on the top plot (ax[0])\n",
    "# Hint: You'll plot using ax[0].something, not plt.something \n",
    "\n",
    "\n",
    "\n",
    "### BONUS SECTION:\n",
    "# This code is finding \"a\" and \"b\" of the sine curve that \n",
    "# best fits the data points\n",
    "parameters, cov = curve_fit(mySin, x, y, p0=[1, 6])\n",
    "a_fit = parameters[0]\n",
    "b_fit = parameters[1]\n",
    "\n",
    "# YOUR CODE HERE: \n",
    "# Find the y-values of the sine (mySin) function where \n",
    "# x = the x's from the data, a=a_fit, and b=b_fit.\n",
    "# Name the list of y-values \"y_fit\"\n",
    "\n",
    "\n",
    "\n",
    "# YOUR CODE HERE:\n",
    "# Plot the best-fit function as a black line\n",
    "\n",
    "\n",
    "\n",
    "# This will just show you how the fit values compare to the true\n",
    "# values I used when making the sample data\n",
    "print('The fit found y = %0.2f*sin(%0.2f*x)'%(a_fit,b_fit))\n",
    "print('The real answer is y = 0.75*sin(2*pi*x)')\n",
    "print(cov)"
   ]
  },
  {
   "cell_type": "markdown",
   "metadata": {},
   "source": [
    "### Task 3\n",
    "Using the Excel example, save \"saveData\" to the \"files\" folder as a CSV called \"pandas_fit.csv\" \n",
    "\n",
    "If you couldn't figure out **Task 2: Bonus**, add this line to the top of the cell to avoid errors: \n",
    "\n",
    "```y_fit = np.zeros(len(x))```"
   ]
  },
  {
   "cell_type": "code",
   "execution_count": null,
   "metadata": {},
   "outputs": [],
   "source": [
    "# This adds a NEW column to the ORIGINAL dataframe\n",
    "# then saves the data as Excel sheet\n",
    "data['y_fit'] = y_fit\n",
    "data.to_excel('../../files/pandas_fit.xlsx', index=False)\n",
    "\n",
    "# This creates a NEW dataframe entirely\n",
    "saveData = pd.DataFrame({'x':x, 'y':y, 'y_fit':y_fit})\n",
    "\n",
    "# YOUR CODE HERE:\n",
    "# Save saveData to a CSV in the \"files\" folder\n",
    "\n",
    "\n"
   ]
  }
 ],
 "metadata": {
  "kernelspec": {
   "display_name": "Python 3",
   "language": "python",
   "name": "python3"
  },
  "language_info": {
   "codemirror_mode": {
    "name": "ipython",
    "version": 3
   },
   "file_extension": ".py",
   "mimetype": "text/x-python",
   "name": "python",
   "nbconvert_exporter": "python",
   "pygments_lexer": "ipython3",
   "version": "3.7.6"
  }
 },
 "nbformat": 4,
 "nbformat_minor": 4
}
