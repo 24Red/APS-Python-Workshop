{
 "cells": [
  {
   "cell_type": "markdown",
   "metadata": {},
   "source": [
    "# Challenge 3: Use Astropy with FITS files"
   ]
  },
  {
   "cell_type": "markdown",
   "metadata": {},
   "source": [
    "### Import what you need from packages at the top"
   ]
  },
  {
   "cell_type": "code",
   "execution_count": null,
   "metadata": {},
   "outputs": [],
   "source": [
    "import matplotlib.pyplot as plt\n",
    "from astropy.io import fits\n",
    "from astropy.visualization import make_lupton_rgb\n",
    "%matplotlib inline"
   ]
  },
  {
   "cell_type": "markdown",
   "metadata": {},
   "source": [
    "### Open \"combined.fits\" (in the \"files\" folder) and see what's inside"
   ]
  },
  {
   "cell_type": "code",
   "execution_count": null,
   "metadata": {},
   "outputs": [],
   "source": [
    "allData = fits.open('../../files/CassiopeiaA.fits')\n",
    "print(allData.info())"
   ]
  },
  {
   "cell_type": "markdown",
   "metadata": {},
   "source": [
    "### Import each of the three images as red, green, and blue channels"
   ]
  },
  {
   "cell_type": "code",
   "execution_count": null,
   "metadata": {},
   "outputs": [],
   "source": [
    "# Access the individual images and headers from allData\n",
    "r1 = allData[0].data\n",
    "rHeader1 = allData[0].header\n",
    "\n",
    "g1 = allData[1].data\n",
    "gHeader1 = allData[1].header\n",
    "\n",
    "b1 = allData[2].data\n",
    "bHeader1 = allData[2].header\n",
    "\n",
    "# Another way: Open them directly from the file\n",
    "# r1, rHeader1 = fits.getdata('../../files/CassiopeiaA.fits', 0, header=True)\n",
    "# g1, gHeader1 = fits.getdata('../../files/CassiopeiaA.fits', 1, header=True)\n",
    "# b1, bHeader1 = fits.getdata('../../files/CassiopeiaA.fits', 2, header=True)"
   ]
  },
  {
   "cell_type": "markdown",
   "metadata": {},
   "source": [
    "### Task 1\n",
    "Find information about the first image (r1): Print its header, and print the value of the [0][0] pixel."
   ]
  },
  {
   "cell_type": "code",
   "execution_count": null,
   "metadata": {},
   "outputs": [],
   "source": [
    "# YOUR CODE HERE"
   ]
  },
  {
   "cell_type": "markdown",
   "metadata": {},
   "source": [
    "### Task 2\n",
    "Plot the red channel using the \"imshow\" plt function. Then, save the image to the \"files\" folder as a PNG called \"CassiopeiaA_red.png\""
   ]
  },
  {
   "cell_type": "code",
   "execution_count": null,
   "metadata": {},
   "outputs": [],
   "source": [
    "plt.figure()\n",
    "\n",
    "# YOUR CODE HERE: \n",
    "# Plot the image\n",
    "# Include these kwargs: origin='lower', cmap='gray'\n",
    "\n",
    "\n",
    "\n",
    "\n",
    "# Adding some information to the plot\n",
    "plt.colorbar()\n",
    "plt.title('0.5-1.5 keV Data of Cassiopeia A from Chandra X-Ray Telescope')\n",
    "\n",
    "# YOUR CODE HERE:\n",
    "# Save the figure as an image\n",
    "\n",
    "\n",
    "\n"
   ]
  },
  {
   "cell_type": "markdown",
   "metadata": {},
   "source": [
    "### Helpful Example\n",
    "Plot the 3 channels to create an RGB image, then save image"
   ]
  },
  {
   "cell_type": "code",
   "execution_count": null,
   "metadata": {},
   "outputs": [],
   "source": [
    "plt.figure()\n",
    "image = make_lupton_rgb(r1, g1, b1, stretch=100)\n",
    "plt.imshow(image, origin = 'lower')\n",
    "plt.title('3-filter Image of Cassiopeia A from Chandra X-Ray Data')\n",
    "plt.savefig('../../files/CassiopeiaA.png')"
   ]
  }
 ],
 "metadata": {
  "kernelspec": {
   "display_name": "Python 3",
   "language": "python",
   "name": "python3"
  },
  "language_info": {
   "codemirror_mode": {
    "name": "ipython",
    "version": 3
   },
   "file_extension": ".py",
   "mimetype": "text/x-python",
   "name": "python",
   "nbconvert_exporter": "python",
   "pygments_lexer": "ipython3",
   "version": "3.7.6"
  }
 },
 "nbformat": 4,
 "nbformat_minor": 4
}
